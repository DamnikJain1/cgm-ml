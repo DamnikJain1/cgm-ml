{
 "cells": [
  {
   "cell_type": "code",
   "execution_count": 2,
   "metadata": {},
   "outputs": [],
   "source": [
    "import warnings\n",
    "warnings.filterwarnings(\"ignore\")\n",
    "import dbutils\n",
    "import time\n",
    "import pandas as pd\n",
    "from IPython.display import display\n",
    "import numpy as np\n",
    "last_check = 0"
   ]
  },
  {
   "cell_type": "code",
   "execution_count": 5,
   "metadata": {},
   "outputs": [
    {
     "name": "stdout",
     "output_type": "stream",
     "text": [
      "Loading /data/home/tbehrens/notebooks/cgm-ml/cgm_database/dbconnection_prod.json...\n",
      "Host:    cgm-in-bmz-postgresql-sql-prod.postgres.database.azure.com\n",
      "DB-name: cgm\n"
     ]
    },
    {
     "data": {
      "text/plain": [
       "['pg_stat_statements',\n",
       " 'pg_buffercache',\n",
       " 'person',\n",
       " 'measure',\n",
       " 'artifact',\n",
       " 'device',\n",
       " 'model',\n",
       " 'measure_result',\n",
       " 'artifact_result',\n",
       " 'result_transaction']"
      ]
     },
     "execution_count": 5,
     "metadata": {},
     "output_type": "execute_result"
    }
   ],
   "source": [
    "#main_connector = dbutils.connect_to_main_database(\"dbconnection_dev.json\")\n",
    "#main_connector = dbutils.connect_to_main_database(\"dbconnection_qa.json\")\n",
    "main_connector = dbutils.connect_to_main_database(\"dbconnection_prod.json\")\n",
    "\n",
    "main_connector.get_all_tables()"
   ]
  },
  {
   "cell_type": "code",
   "execution_count": 15,
   "metadata": {},
   "outputs": [
    {
     "name": "stdout",
     "output_type": "stream",
     "text": [
      "Done.\n"
     ]
    }
   ],
   "source": [
    "sql_statement = \"\"\"\n",
    "DROP VIEW IF EXISTS artifacts_with_targets;\n",
    "CREATE VIEW artifacts_with_targets AS \n",
    "SELECT\n",
    "    person.qr_code AS qr_code,\n",
    "    artifact.id AS artifact_id,\n",
    "    artifact.storage_path AS artifact_path,\n",
    "    artifact.dataformat AS type,\n",
    "    measure.age AS age,\n",
    "    measure.height AS height,\n",
    "    measure.weight AS weight,\n",
    "    measure.muac AS muac,\n",
    "    measure.head_circumference AS head_circumference\n",
    "    --measure_quality.text_value AS status\n",
    "    FROM artifact\n",
    "    INNER JOIN measure ON artifact.measure_id=measure.id\n",
    "    INNER JOIN person ON measure.person_id=person.id\n",
    "    --INNER JOIN measure_quality ON measure_quality.measure_id=measure.id\n",
    "    WHERE measure.height >= 60\n",
    "    AND measure.height <= 120\n",
    "    AND measure.weight >= 2\n",
    "    AND measure.weight <= 20\n",
    "    --AND measure_quality.key='expert_status'\n",
    "    ;\n",
    "            \"\"\"\n",
    "main_connector.execute(sql_statement)\n",
    "print(\"Done.\")"
   ]
  },
  {
   "cell_type": "code",
   "execution_count": 17,
   "metadata": {},
   "outputs": [
    {
     "name": "stdout",
     "output_type": "stream",
     "text": [
      "Found 116298 PCDs. Processing...\n"
     ]
    }
   ],
   "source": [
    "sql_statement = \"\"\"\n",
    "            SELECT artifact_path, qr_code, height, weight \n",
    "            FROM artifacts_with_targets \n",
    "            WHERE type='pcd'\n",
    "            ;\n",
    "            \"\"\"\n",
    "entries = main_connector.execute(sql_statement, fetch_all=True)\n",
    "print(\"Found {} PCDs. Processing...\".format(len(entries)))"
   ]
  },
  {
   "cell_type": "code",
   "execution_count": 19,
   "metadata": {},
   "outputs": [
    {
     "name": "stdout",
     "output_type": "stream",
     "text": [
      "Found 3499 QR codes. Processing...\n"
     ]
    }
   ],
   "source": [
    "sql_statement = \"\"\"\n",
    "            SELECT DISTINCT(qr_code)\n",
    "            FROM artifacts_with_targets \n",
    "            WHERE type='pcd'\n",
    "            ;\n",
    "            \"\"\"\n",
    "entries = main_connector.execute(sql_statement, fetch_all=True)\n",
    "print(\"Found {} QR codes. Processing...\".format(len(entries)))"
   ]
  },
  {
   "cell_type": "code",
   "execution_count": 53,
   "metadata": {},
   "outputs": [
    {
     "name": "stdout",
     "output_type": "stream",
     "text": [
      "1 (0,)\n",
      "1 (13217,)\n",
      "1 (430,)\n",
      "1 (0,)\n"
     ]
    }
   ],
   "source": [
    "sql_statement = \"\"\"\n",
    "    SELECT \n",
    "        COUNT(*)\n",
    "    FROM artifacts_with_targets \n",
    "    ;\n",
    "    \"\"\"\n",
    "result = main_connector.execute(sql_statement, fetch_one=True)\n",
    "print(len(result), result[0:2])\n",
    "\n",
    "sql_statement = \"\"\"\n",
    "    SELECT \n",
    "        COUNT(*)\n",
    "    FROM artifact\n",
    "    WHERE type='pcd'\n",
    "    ;\n",
    "    \"\"\"\n",
    "result = main_connector.execute(sql_statement, fetch_one=True)\n",
    "print(len(result), result)\n",
    "\n",
    "sql_statement = \"\"\"\n",
    "    SELECT \n",
    "        COUNT(DISTINCT(measure_id))\n",
    "    FROM artifact\n",
    "    WHERE type='pcd'\n",
    "    ;\n",
    "    \"\"\"\n",
    "result = main_connector.execute(sql_statement, fetch_one=True)\n",
    "print(len(result), result)\n",
    "\n",
    "sql_statement = \"\"\"\n",
    "    SELECT \n",
    "        COUNT(*)\n",
    "    FROM measure_quality\n",
    "    ;\n",
    "    \"\"\"\n",
    "result = main_connector.execute(sql_statement, fetch_one=True)\n",
    "print(len(result), result)"
   ]
  },
  {
   "cell_type": "code",
   "execution_count": 56,
   "metadata": {},
   "outputs": [
    {
     "name": "stdout",
     "output_type": "stream",
     "text": [
      "Loading /data/home/tbehrens/notebooks/cgm-ml/cgm_database/dbconnection_dev.json...\n",
      "Host:    cgm-dev.postgres.database.azure.com\n",
      "DB-name: cgm_ml_db\n",
      "\n",
      "PCDs with measure (146488,)\n",
      "OLDEST (datetime.datetime(2018, 6, 29, 10, 40, 28, tzinfo=psycopg2.tz.FixedOffsetTimezone(offset=0, name=None)),)\n",
      "NEWEST (datetime.datetime(2019, 2, 8, 7, 4, 30, tzinfo=psycopg2.tz.FixedOffsetTimezone(offset=0, name=None)),)\n",
      "\n",
      "Loading /data/home/tbehrens/notebooks/cgm-ml/cgm_database/dbconnection_qa.json...\n",
      "Host:    cgm-in-bmz-postgresql-sql-qa.postgres.database.azure.com\n",
      "DB-name: cgm\n",
      "\n",
      "PCDs with measure (13217,)\n",
      "OLDEST (datetime.datetime(2019, 7, 16, 7, 27, 26, tzinfo=psycopg2.tz.FixedOffsetTimezone(offset=0, name=None)),)\n",
      "NEWEST (datetime.datetime(2019, 10, 30, 15, 1, 52, tzinfo=psycopg2.tz.FixedOffsetTimezone(offset=0, name=None)),)\n",
      "\n",
      "Loading /data/home/tbehrens/notebooks/cgm-ml/cgm_database/dbconnection_prod.json...\n",
      "Host:    cgm-in-bmz-postgresql-sql-prod.postgres.database.azure.com\n",
      "DB-name: cgm\n",
      "\n",
      "PCDs with measure (94958,)\n",
      "OLDEST (datetime.datetime(2019, 7, 23, 11, 23, 50, tzinfo=psycopg2.tz.FixedOffsetTimezone(offset=0, name=None)),)\n",
      "NEWEST (datetime.datetime(2019, 10, 24, 8, 35, 4, tzinfo=psycopg2.tz.FixedOffsetTimezone(offset=0, name=None)),)\n",
      "\n"
     ]
    }
   ],
   "source": [
    "for file in [\"dbconnection_dev.json\", \"dbconnection_qa.json\", \"dbconnection_prod.json\"]:\n",
    "    \n",
    "    main_connector = dbutils.connect_to_main_database(file)\n",
    "    print(\"\")\n",
    "\n",
    "    sql_statement = \"\"\"\n",
    "        SELECT COUNT(artifact)\n",
    "          FROM artifact a\n",
    "          INNER JOIN measure m ON a.measure_id=m.id\n",
    "          WHERE a.type='pcd'\n",
    "          AND m.type='manual'\n",
    "        ;\n",
    "        \"\"\"\n",
    "    result = main_connector.execute(sql_statement, fetch_one=True)\n",
    "    print(\"PCDs with measure\", result)\n",
    "\n",
    "    sql_statement = \"\"\"\n",
    "        SELECT \n",
    "           to_timestamp(MIN(create_date / 1000))\n",
    "        FROM artifact\n",
    "        ;\n",
    "        \"\"\"\n",
    "    result = main_connector.execute(sql_statement, fetch_one=True)\n",
    "    print(\"OLDEST\", result)\n",
    "\n",
    "    sql_statement = \"\"\"\n",
    "        SELECT \n",
    "           to_timestamp(MAX(create_date / 1000))\n",
    "        FROM artifact\n",
    "        ;\n",
    "        \"\"\"\n",
    "    result = main_connector.execute(sql_statement, fetch_one=True)\n",
    "    print(\"NEWEST\", result)\n",
    "    \n",
    "    print(\"\")\n"
   ]
  },
  {
   "cell_type": "code",
   "execution_count": 13,
   "metadata": {},
   "outputs": [
    {
     "name": "stdout",
     "output_type": "stream",
     "text": [
      "1 (0,)\n"
     ]
    }
   ],
   "source": [
    "sql_statement = \"\"\"\n",
    "    SELECT \n",
    "        COUNT(*)\n",
    "    FROM artifacts_with_targets\n",
    "    ;\n",
    "    \"\"\"\n",
    "result = main_connector.execute(sql_statement, fetch_one=True)\n",
    "print(len(result), result)"
   ]
  },
  {
   "cell_type": "code",
   "execution_count": null,
   "metadata": {},
   "outputs": [],
   "source": [
    "sql_statement = \"\"\"\n",
    "    SELECT \n",
    "        qr_code, \n",
    "        artifact_id, \n",
    "        REPLACE(artifact_path, '/whhdata', '/localssd/anondata/qrcode'),\n",
    "        type, \n",
    "        age, \n",
    "        height, \n",
    "        weight, \n",
    "        muac, \n",
    "        head_circumference, \n",
    "        status \n",
    "    FROM artifacts_with_targets \n",
    "    WHERE type='pcd'\n",
    "    ;\n",
    "    \"\"\"\n",
    "result = main_connector.execute(sql_statement, fetch_all=True)\n",
    "print(len(result), result[0:2])"
   ]
  },
  {
   "cell_type": "code",
   "execution_count": null,
   "metadata": {},
   "outputs": [],
   "source": [
    "main_connector = dbutils.connect_to_main_database()\n",
    "\n",
    "[WHH] Provide pointers to cleaner dataset  \n",
    "sql_statement = \"\"\"\n",
    "    SELECT \n",
    "        qr_code, \n",
    "        artifact_id, \n",
    "        REPLACE(artifact_path, '/whhdata', '/localssd/anondata/qrcode'),\n",
    "        type, \n",
    "        age, \n",
    "        height, \n",
    "        weight, \n",
    "        muac, \n",
    "        head_circumference, \n",
    "        status \n",
    "    FROM artifacts_with_targets \n",
    "    WHERE type='pcd'\n",
    "    AND status='standing';\n",
    "    \"\"\"\n",
    "result = main_connector.execute(sql_statement, fetch_all=True)\n",
    "print(len(result), result[0:2])\n",
    "\n"
   ]
  },
  {
   "cell_type": "code",
   "execution_count": null,
   "metadata": {},
   "outputs": [],
   "source": [
    "!ls /localssd/anondata/qrcode-new/MP_WHH_2510/measurements/1540360822453/pc"
   ]
  },
  {
   "cell_type": "code",
   "execution_count": null,
   "metadata": {},
   "outputs": [],
   "source": [
    "sql_statement = \"\"\"\n",
    "CREATE TABLE IF NOT EXISTS artifact_result (\n",
    "    PRIMARY KEY(artifact_id, model_name, target_key),\n",
    "    model_name TEXT NOT NULL,\n",
    "    target_key TEXT NOT NULL,\n",
    "    value REAL NOT NULL,\n",
    "    artifact_id VARCHAR(255) REFERENCES artifact(id)\n",
    ");\n",
    "\"\"\"\n",
    "\n",
    "#result = main_connector.execute(sql_statement)\n",
    "#print(result)"
   ]
  },
  {
   "cell_type": "code",
   "execution_count": null,
   "metadata": {},
   "outputs": [],
   "source": [
    "sql_statement = \"\"\"\n",
    "SELECT a.path, ABS(ar.value - m.height) AS loss \n",
    "  FROM artifact_result ar\n",
    "  INNER JOIN artifact a ON ar.artifact_id=a.id\n",
    "  INNER JOIN measure m ON a.measure_id=m.id\n",
    "  INNER JOIN measure_quality mq ON mq.measure_id=m.id\n",
    "  WHERE ar.target_key='height'\n",
    "  AND ar.model_name ='20190913-1807_220-55height'\n",
    "  AND m.type='manual'\n",
    "--  AND ABS(ar.value - m.height) < 1.0\n",
    "  AND mq.key='expert_status'\n",
    "  AND mq.text_value='standing'\n",
    "  ORDER BY loss\n",
    ";\n",
    "\"\"\"\n",
    "\n",
    "result = main_connector.execute(sql_statement, fetch_all=True)\n",
    "print(len(result))\n",
    "mean_loss = np.mean([x[1] for x in result])\n",
    "print(\"MAE\", mean_loss)\n",
    "for x in result[0:10]:\n",
    "    print(x)"
   ]
  },
  {
   "cell_type": "code",
   "execution_count": null,
   "metadata": {},
   "outputs": [],
   "source": [
    "sql_statement = \"SELECT COUNT(*) FROM artifact;\"\n",
    "artifacts = main_connector.execute(sql_statement, fetch_one=True)[0]\n",
    "\n",
    "sql_statement = \"SELECT COUNT(*) FROM artifact_result;\"\n",
    "artifact_results = main_connector.execute(sql_statement, fetch_one=True)[0]\n",
    "\n",
    "print(artifact_results, artifacts)\n",
    "print(100 * artifact_results / artifacts)"
   ]
  },
  {
   "cell_type": "code",
   "execution_count": null,
   "metadata": {},
   "outputs": [],
   "source": [
    "sql_statement = \"SELECT DISTINCT(model_name) FROM artifact_result;\"\n",
    "result = main_connector.execute(sql_statement, fetch_one=True)[0]\n",
    "print(result)\n"
   ]
  },
  {
   "cell_type": "code",
   "execution_count": null,
   "metadata": {},
   "outputs": [],
   "source": [
    "main_connector = dbutils.connect_to_main_database()\n",
    "sql_statement = \"SELECT height FROM measure m INNER JOIN person p on m.person_id=p.id WHERE qr_code='SAM-GOV-030' AND m.type='manual' ORDER BY m.timestamp;\"\n",
    "result = main_connector.execute(sql_statement, fetch_all=True)\n",
    "result = [r[0] for r in result]\n",
    "print(result)"
   ]
  },
  {
   "cell_type": "code",
   "execution_count": null,
   "metadata": {},
   "outputs": [],
   "source": [
    "main_connector = dbutils.connect_to_main_database()\n",
    "sql_statement = \"SELECT DISTINCT(type) FROM artifact_quality WHERE type='20190708-0919_2379-595height';\"\n",
    "result = main_connector.execute(sql_statement, fetch_all=True)\n",
    "print(result)"
   ]
  },
  {
   "cell_type": "code",
   "execution_count": null,
   "metadata": {},
   "outputs": [],
   "source": [
    "main_connector = dbutils.connect_to_main_database()\n",
    "sql_statement = \"SELECT DISTINCT(type) FROM artifact_quality;\"\n",
    "result = main_connector.execute(sql_statement, fetch_all=True)\n",
    "print(result)"
   ]
  },
  {
   "cell_type": "code",
   "execution_count": null,
   "metadata": {},
   "outputs": [],
   "source": [
    "main_connector = dbutils.connect_to_main_database()\n",
    "sql_statement = \"SELECT COUNT(*) FROM artifact_quality WHERE type='20190708-0919_2379-595height';\"\n",
    "result = main_connector.execute(sql_statement, fetch_one=True)[0]\n",
    "print(last_check, result, \"PCDs in artifact_quality\")\n",
    "\n",
    "if last_check != result:\n",
    "    print(\"Change\")\n",
    "else:\n",
    "    print(\"No change\")\n",
    "last_check = result"
   ]
  },
  {
   "cell_type": "code",
   "execution_count": null,
   "metadata": {},
   "outputs": [],
   "source": [
    "main_connector = dbutils.connect_to_main_database()\n",
    "sql_statement = \"SELECT COUNT(*) FROM artifact WHERE type='pcd';\"\n",
    "result = main_connector.execute(sql_statement, fetch_all=True)\n",
    "print(result, \"PCDs in artifact\")"
   ]
  },
  {
   "cell_type": "markdown",
   "metadata": {},
   "source": [
    "# Scan level MAEs."
   ]
  },
  {
   "cell_type": "code",
   "execution_count": null,
   "metadata": {},
   "outputs": [],
   "source": [
    "main_connector = dbutils.connect_to_main_database()\n",
    "\n",
    "sql_statement = \"\"\n",
    "sql_statement += \"SELECT COUNT(DISTINCT p.qr_code) FROM person p;\"\n",
    "\n",
    "result = main_connector.execute(sql_statement, fetch_one=True)[0]\n",
    "print(\"Found {} qr-codes.\".format(result))"
   ]
  },
  {
   "cell_type": "code",
   "execution_count": null,
   "metadata": {},
   "outputs": [],
   "source": [
    "# Select all QR-code-create-date pairs. Those are scans.\n",
    "sql_statement = \"\"\n",
    "sql_statement += \"SELECT DISTINCT p.qr_code, m.timestamp, m.id as measure_id\"\n",
    "sql_statement += \" FROM measure m\"\n",
    "sql_statement += \" INNER JOIN person p on m.person_id=p.id\"\n",
    "sql_statement += \" WHERE m.type='manual'\"\n",
    "sql_statement += \";\"\n",
    "\n",
    "start = time.time()\n",
    "scans = main_connector.execute(sql_statement, fetch_all=True)\n",
    "end = time.time()\n",
    "print(end - start)\n",
    "\n",
    "print(\"Found {} manual scans\".format(len(scans)))\n",
    "#print(scans[200:300])\n",
    "\n",
    "\n",
    "\n",
    "sql_statement = \"\"\n",
    "sql_statement += \"SELECT COUNT(*)\"\n",
    "sql_statement += \" FROM artifact\"\n",
    "sql_statement += \" WHERE type='pcrgb'\"\n",
    "sql_statement += \";\"\n",
    "\n",
    "scans = main_connector.execute(sql_statement, fetch_all=True)\n",
    "print (\"number of fused scans: \" + str(scans))\n",
    "\n",
    "sql_statement = \"\"\n",
    "sql_statement += \"SELECT COUNT(*)\"\n",
    "sql_statement += \" FROM artifact\"\n",
    "sql_statement += \" WHERE type='pcd'\"\n",
    "sql_statement += \";\"\n",
    "\n",
    "scans = main_connector.execute(sql_statement, fetch_all=True)\n",
    "print (\"number of pcd scans: \" + str(scans))"
   ]
  },
  {
   "cell_type": "code",
   "execution_count": null,
   "metadata": {},
   "outputs": [],
   "source": [
    "model = \"20190708-0919_2379-595height\"\n",
    "\n",
    "for scan in scans[200:201]:\n",
    "    qr_code = pair[0]\n",
    "    create_date = pair[1]\n",
    "    print(qr_code, create_date)\n",
    "    \n",
    "    sql_statement = \"\"\n",
    "    sql_statement += \"SELECT SUM(aq.value) \"\n",
    "    sql_statement += \" FROM artifact_quality aq\"\n",
    "    sql_statement += \" INNER JOIN artifact a ON a.id = aq.artifact_id\"\n",
    "    sql_statement += \" WHERE aq.key='mae'\"\n",
    "    sql_statement += \" AND aq.type='{}'\".format(model)\n",
    "    sql_statement += \" AND a.qr_code='{}'\".format(qr_code)\n",
    "    sql_statement += \" AND a.create_date='{}'\".format(create_date)\n",
    "    sql_statement += \";\"\n",
    "\n",
    "    start = time.time()\n",
    "    result = main_connector.execute(sql_statement, fetch_all=True)\n",
    "    end = time.time()\n",
    "    print(end - start)"
   ]
  },
  {
   "cell_type": "code",
   "execution_count": null,
   "metadata": {},
   "outputs": [],
   "source": [
    "6697 * 10 / (60 * 60)"
   ]
  },
  {
   "cell_type": "code",
   "execution_count": null,
   "metadata": {},
   "outputs": [],
   "source": [
    "print(qr_codes[0])\n",
    "for qr_code in qr_codes[0:10]:\n",
    "    qr_code = qr_code[0]\n",
    "    \n",
    "    # Get all create dates for that qr-code.\n",
    "    sql_statement = \"\"\n",
    "    sql_statement += \"SELECT DISTINCT(a.create_date) FROM artifact a\"\n",
    "    sql_statement += \" WHERE a.qr_code='{}'\".format(qr_code)\n",
    "    sql_statement += \";\"\n",
    "    \n",
    "    start = time.time()\n",
    "    create_dates = main_connector.execute(sql_statement, fetch_all=True)\n",
    "    for create_date in create_dates:\n",
    "        create_date = create_dates[0]\n",
    "        print(r)\n",
    "    end = time.time()\n",
    "    print(end - start)\n",
    "    break\n",
    "    "
   ]
  },
  {
   "cell_type": "code",
   "execution_count": null,
   "metadata": {},
   "outputs": [],
   "source": [
    "#SELECT a.qr_code, AVG(aq.value) \n",
    "#FROM artifact_quality as aq\n",
    "#INNER JOIN artifact as a\n",
    "#  ON a.artifact_id = aq.artifact_id\n",
    "#WHERE aq.key='mae'\n",
    "#AND aq.type='20190708-0919_2379-595height'\n",
    "#GROUP BY a.qr_code, a.create_date;\n",
    "\n",
    "#main_connector = dbutils.connect_to_main_database()\n",
    "\n",
    "model_name = \"20190708-0919_2379-595height\"\n",
    "\n",
    "sql_statement = \"\"\n",
    "sql_statement += \"SELECT a.qr_code, a.create_date, AVG(aq.value) FROM artifact_quality aq\"\n",
    "sql_statement += \" INNER JOIN artifact a ON a.id = aq.artifact_id\"\n",
    "sql_statement += \" WHERE aq.key='mae'\"\n",
    "sql_statement += \" AND aq.type='{}'\".format(model_name)\n",
    "sql_statement += \" GROUP BY a.qr_code, a.create_date\"\n",
    "sql_statement += \";\"\n",
    "\n",
    "print(sql_statement)\n",
    "\n",
    "start = time.time()\n",
    "result = main_connector.execute(sql_statement, fetch_all=True)\n",
    "end = time.time()\n",
    "print(end - start)\n",
    "\n",
    "\n",
    "print(len(result), \"results\")\n",
    "\n",
    "#last_check = len(result)\n",
    "rows = []\n",
    "for r in result[0:10]:\n",
    "    qr_code = r[0]\n",
    "    create_date = r[1]\n",
    "    mae = r[2]\n",
    "    row = (qr_code, create_date, mae)\n",
    "    print(row)\n",
    "    rows.append(row)\n",
    "    \n",
    "columns = [\"QR-Code\", \"Timestamp\", \"MAE\"]\n",
    "\n",
    "df = pd.DataFrame(rows, columns=columns)\n",
    "display(df)"
   ]
  },
  {
   "cell_type": "code",
   "execution_count": null,
   "metadata": {},
   "outputs": [],
   "source": [
    "\n",
    "sql_statement = \"SELECT * FROM artifacts_with_targets WHERE type='pcd';\"\n",
    "result = main_connector.execute(sql_statement, fetch_all=True)\n",
    "print(len(result), result[0:2])"
   ]
  },
  {
   "cell_type": "code",
   "execution_count": null,
   "metadata": {},
   "outputs": [],
   "source": [
    "sql_statement = \"SELECT COUNT(*) FROM artifact_quality WHERE key='number_of_points';\"\n",
    "result = main_connector.execute(sql_statement, fetch_all=True)\n",
    "print(len(result), result[0:2])"
   ]
  },
  {
   "cell_type": "code",
   "execution_count": null,
   "metadata": {},
   "outputs": [],
   "source": [
    "sql_statement = \"SELECT COUNT(*) FROM artifact_quality;\"\n",
    "result = main_connector.execute(sql_statement, fetch_all=True)\n",
    "print(result)"
   ]
  },
  {
   "cell_type": "code",
   "execution_count": null,
   "metadata": {},
   "outputs": [],
   "source": [
    "sql_statement = \"SELECT COUNT(*) FROM artifact WHERE path LIKE '%scantimestamp%';\"\n",
    "result = main_connector.execute(sql_statement, fetch_all=True)[0][0]\n",
    "print(result)\n",
    "\n",
    "sql_statement = \"SELECT COUNT(*) FROM artifact WHERE path LIKE '% %';\"\n",
    "print(sql_statement)\n",
    "result = main_connector.execute(sql_statement, fetch_all=True)[0][0]\n",
    "print(result)\n",
    "\n",
    "sql_statement = \"SELECT COUNT(*) FROM artifact WHERE path NOT LIKE '%scantimestamp%';\"\n",
    "result = main_connector.execute(sql_statement, fetch_all=True)[0][0]\n",
    "print(result)\n",
    "\n"
   ]
  },
  {
   "cell_type": "code",
   "execution_count": null,
   "metadata": {},
   "outputs": [],
   "source": [
    "sql_statement = \"SELECT id, tango_timestamp FROM artifact WHERE tango_timestamp = ROUND(tango_timestamp) AND type='pcd';\"\n",
    "result = main_connector.execute(sql_statement, fetch_all=True)\n",
    "print(len(result), result[0:2])\n",
    "\n",
    "sql_statement = \"SELECT id, tango_timestamp FROM artifact WHERE tango_timestamp != ROUND(tango_timestamp) AND type='pcd';\"\n",
    "result = main_connector.execute(sql_statement, fetch_all=True)\n",
    "print(len(result), result[0:2])\n",
    "\n",
    "#for r in result[0:10]:\n",
    "#    print(r[0], r[1])"
   ]
  },
  {
   "cell_type": "code",
   "execution_count": null,
   "metadata": {},
   "outputs": [],
   "source": [
    "sql_statement = \"SELECT id, tango_timestamp FROM artifact;\"\n",
    "result = main_connector.execute(sql_statement, fetch_all=True)\n",
    "result = result[:100]\n",
    "print(result[0:2])\n",
    "for r in result:\n",
    "    print(r[0], r[1])"
   ]
  },
  {
   "cell_type": "code",
   "execution_count": null,
   "metadata": {},
   "outputs": [],
   "source": [
    "sql_statement = \"SELECT COUNT(*) FROM artifact_quality WHERE key='confidence_avg';\"\n",
    "result = main_connector.execute(sql_statement, fetch_all=True)[0][0]\n",
    "print(result, \"artifact quality KPIs\")\n",
    "\n",
    "sql_statement = \"SELECT MIN(value) FROM artifact_quality WHERE key='number_of_points';\"\n",
    "result = main_connector.execute(sql_statement, fetch_all=True)[0][0]\n",
    "print(result, \"artifact quality KPIs\")"
   ]
  },
  {
   "cell_type": "code",
   "execution_count": null,
   "metadata": {},
   "outputs": [],
   "source": [
    "main_connector = dbutils.connect_to_main_database()\n",
    "\n",
    "sql_statement = \"SELECT COUNT(*) FROM artifact_quality;\"\n",
    "result = main_connector.execute(sql_statement, fetch_all=True)[0][0]\n",
    "print(result, \"entries in artifact_quality\")\n",
    "\n",
    "sql_statement = \"SELECT COUNT(*) FROM artifact_quality WHERE value=0.0;\"\n",
    "result = main_connector.execute(sql_statement, fetch_all=True)[0][0]\n",
    "print(result, \"entries in artifact_quality where value is 0.0\")\n",
    "\n",
    "sql_statement = \"SELECT COUNT(*) FROM artifact_quality WHERE key='confidence_avg';\"\n",
    "result = main_connector.execute(sql_statement, fetch_all=True)[0][0]\n",
    "print(result, \"entries in artifact_quality with key confidence_avg\")\n",
    "\n",
    "sql_statement = \"SELECT COUNT(*) FROM artifact_quality WHERE key='number_of_points';\"\n",
    "result = main_connector.execute(sql_statement, fetch_all=True)[0][0]\n",
    "print(result, \"entries in artifact_quality with key number_of_points\")\n",
    "\n",
    "sql_statement = \"SELECT COUNT(DISTINCT(artifact_id)) FROM artifact_quality;\"\n",
    "result = main_connector.execute(sql_statement, fetch_all=True)[0][0]\n",
    "print(result, \"distinct artifact_ids in artifact_quality\")\n",
    "\n",
    "sql_statement = \"SELECT COUNT(*) FROM artifact WHERE type='pcd';\"\n",
    "result = main_connector.execute(sql_statement, fetch_all=True)[0][0]\n",
    "print(result, \"PCDs in artifacts\")\n",
    "\n",
    "sql_statement = \"SELECT COUNT(*) FROM artifacts_with_targets WHERE type='pcd';\"\n",
    "result = main_connector.execute(sql_statement, fetch_all=True)[0][0]\n",
    "print(result, \"PCDs in artifacts_with_targets\")"
   ]
  },
  {
   "cell_type": "code",
   "execution_count": null,
   "metadata": {},
   "outputs": [],
   "source": [
    "#sql_statement = \"DELETE FROM artifact_quality WHERE value=0.0;\"\n",
    "#result = main_connector.execute(sql_statement, fetch_all=True)[0][0]"
   ]
  },
  {
   "cell_type": "code",
   "execution_count": null,
   "metadata": {},
   "outputs": [],
   "source": [
    "sql_statement = \"SELECT COUNT(*) FROM artifacts_with_targets WHERE type='pcd';\"\n",
    "result = main_connector.execute(sql_statement, fetch_all=True)[0][0]\n",
    "print(result, \"PCDs in artifacts_with_targets\")"
   ]
  },
  {
   "cell_type": "code",
   "execution_count": null,
   "metadata": {},
   "outputs": [],
   "source": []
  }
 ],
 "metadata": {
  "kernelspec": {
   "display_name": "Python 3.5",
   "language": "python",
   "name": "python3"
  },
  "language_info": {
   "codemirror_mode": {
    "name": "ipython",
    "version": 3
   },
   "file_extension": ".py",
   "mimetype": "text/x-python",
   "name": "python",
   "nbconvert_exporter": "python",
   "pygments_lexer": "ipython3",
   "version": "3.5.5"
  }
 },
 "nbformat": 4,
 "nbformat_minor": 2
}
