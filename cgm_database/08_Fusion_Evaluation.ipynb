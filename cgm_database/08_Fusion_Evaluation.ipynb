{
 "cells": [
  {
   "cell_type": "code",
   "execution_count": 1,
   "metadata": {},
   "outputs": [],
   "source": [
    "%matplotlib inline\n",
    "import sys\n",
    "sys.path.insert(0, \"..\")\n",
    "import dbutils\n",
    "from cgmcore import utils\n",
    "import matplotlib.pyplot as plt\n",
    "import pandas as pd\n",
    "import glob2\n",
    "import os\n",
    "import config\n",
    "from tqdm import tqdm\n",
    "import ipywidgets as widgets\n",
    "from ipywidgets import interact, interact_manual\n",
    "from IPython.display import display, clear_output\n",
    "import itertools\n",
    "from tqdm import tqdm\n",
    "import numpy as np"
   ]
  },
  {
   "cell_type": "markdown",
   "metadata": {},
   "source": [
    "Get the total number of all different types, available in the database. "
   ]
  },
  {
   "cell_type": "code",
   "execution_count": 2,
   "metadata": {},
   "outputs": [
    {
     "name": "stdout",
     "output_type": "stream",
     "text": [
      "Number of rgb images: 743562\n",
      "Numbers of point clouds (xyz): 223249\n",
      "Number of fused point clouds (xyzrgbcs): 137949\n"
     ]
    }
   ],
   "source": [
    "# Getting the models.\n",
    "db_connector = dbutils.connect_to_main_database()\n",
    "\n",
    "# get the number of rgb artifacts\n",
    "select_sql_statement = \"SELECT COUNT(*) FROM artifact WHERE type='rgb';\"\n",
    "count_rgb = db_connector.execute(select_sql_statement, fetch_all=True)[0][0]\n",
    "print('Number of rgb images: ' + str(count_rgb))\n",
    "\n",
    "# get the number of rgb artifacts\n",
    "select_sql_statement = \"SELECT COUNT(*) FROM artifact WHERE type='pcd';\"\n",
    "count_pcd = db_connector.execute(select_sql_statement, fetch_all=True)[0][0]\n",
    "print('Numbers of point clouds (xyz): ' + str(count_pcd))\n",
    "\n",
    "# get the number of the fused artifacts\n",
    "select_sql_statement = \"SELECT COUNT(*) FROM artifact WHERE type='pcrgb';\"\n",
    "count_fusion = db_connector.execute(select_sql_statement, fetch_all=True)[0][0]\n",
    "print('Number of fused point clouds (xyzrgbcs): ' + str(count_fusion))"
   ]
  },
  {
   "cell_type": "markdown",
   "metadata": {},
   "source": [
    "Plot the results as a bar graph. "
   ]
  },
  {
   "cell_type": "code",
   "execution_count": 3,
   "metadata": {},
   "outputs": [
    {
     "data": {
      "text/plain": [
       "Text(0.5, 0, 'number of objects in Database')"
      ]
     },
     "execution_count": 3,
     "metadata": {},
     "output_type": "execute_result"
    },
    {
     "data": {
      "image/png": "[encoded data removed]",
      "text/plain": [
       "<Figure size 432x288 with 1 Axes>"
      ]
     },
     "metadata": {
      "needs_background": "light"
     },
     "output_type": "display_data"
    }
   ],
   "source": [
    "objects = ('RGB', 'PointCloud', 'Fused Point Cloud')\n",
    "y_pos = np.arange(len(objects))\n",
    "performance = [count_rgb, count_pcd, count_fusion]\n",
    "\n",
    "plt.barh(y_pos, performance, align='center', alpha=0.5)\n",
    "plt.yticks(y_pos, objects)\n",
    "plt.xticks(np.arange(0, count_rgb, step=100000))\n",
    "plt.xlabel('number of objects in Database')\n"
   ]
  },
  {
   "cell_type": "markdown",
   "metadata": {},
   "source": [
    "### Visualization"
   ]
  },
  {
   "cell_type": "code",
   "execution_count": 4,
   "metadata": {},
   "outputs": [
    {
     "ename": "IndexError",
     "evalue": "index 1429 is out of bounds for axis 0 with size 1200",
     "output_type": "error",
     "traceback": [
      "\u001b[0;31m---------------------------------------------------------------------------\u001b[0m",
      "\u001b[0;31mIndexError\u001b[0m                                Traceback (most recent call last)",
      "\u001b[0;32m<ipython-input-4-81021c519cf0>\u001b[0m in \u001b[0;36m<module>\u001b[0;34m\u001b[0m\n\u001b[1;32m      4\u001b[0m \u001b[0;34m\u001b[0m\u001b[0m\n\u001b[1;32m      5\u001b[0m \u001b[0;32mimport\u001b[0m \u001b[0mnumpy\u001b[0m\u001b[0;34m\u001b[0m\u001b[0;34m\u001b[0m\u001b[0m\n\u001b[0;32m----> 6\u001b[0;31m \u001b[0mutility\u001b[0m\u001b[0;34m.\u001b[0m\u001b[0mget_viz_depth\u001b[0m\u001b[0;34m(\u001b[0m\u001b[0;34m'/tmp/cloud_debug.ply'\u001b[0m\u001b[0;34m)\u001b[0m\u001b[0;34m\u001b[0m\u001b[0;34m\u001b[0m\u001b[0m\n\u001b[0m",
      "\u001b[0;32m~/notebooks/cgm-ml/cgm_fusion/utility.py\u001b[0m in \u001b[0;36mget_viz_depth\u001b[0;34m(ply_path)\u001b[0m\n\u001b[1;32m    115\u001b[0m         \u001b[0;32mif\u001b[0m \u001b[0mx\u001b[0m \u001b[0;34m>=\u001b[0m \u001b[0;36m0\u001b[0m \u001b[0;32mand\u001b[0m \u001b[0mx\u001b[0m \u001b[0;34m<\u001b[0m \u001b[0mwidth\u001b[0m \u001b[0;32mand\u001b[0m \u001b[0my\u001b[0m \u001b[0;34m>=\u001b[0m \u001b[0;36m0\u001b[0m \u001b[0;32mand\u001b[0m \u001b[0my\u001b[0m \u001b[0;34m<\u001b[0m \u001b[0mheight\u001b[0m\u001b[0;34m:\u001b[0m\u001b[0;34m\u001b[0m\u001b[0;34m\u001b[0m\u001b[0m\n\u001b[1;32m    116\u001b[0m             \u001b[0;31m#z = 255*(z[i] - z_min) / z_max\u001b[0m\u001b[0;34m\u001b[0m\u001b[0;34m\u001b[0m\u001b[0;34m\u001b[0m\u001b[0m\n\u001b[0;32m--> 117\u001b[0;31m             \u001b[0mviz_image\u001b[0m\u001b[0;34m[\u001b[0m\u001b[0mx\u001b[0m\u001b[0;34m,\u001b[0m\u001b[0my\u001b[0m\u001b[0;34m]\u001b[0m \u001b[0;34m=\u001b[0m \u001b[0mz\u001b[0m\u001b[0;34m[\u001b[0m\u001b[0mi\u001b[0m\u001b[0;34m]\u001b[0m \u001b[0;34m*\u001b[0m \u001b[0;36m1000\u001b[0m\u001b[0;34m\u001b[0m\u001b[0;34m\u001b[0m\u001b[0m\n\u001b[0m\u001b[1;32m    118\u001b[0m \u001b[0;34m\u001b[0m\u001b[0m\n\u001b[1;32m    119\u001b[0m     \u001b[0;31m# return the image after pricessing\u001b[0m\u001b[0;34m\u001b[0m\u001b[0;34m\u001b[0m\u001b[0;34m\u001b[0m\u001b[0m\n",
      "\u001b[0;31mIndexError\u001b[0m: index 1429 is out of bounds for axis 0 with size 1200"
     ]
    }
   ],
   "source": [
    "from cgm_fusion import calibration\n",
    "from cgm_fusion import fusion\n",
    "from cgm_fusion import utility\n",
    "\n",
    "import numpy\n",
    "utility.get_viz_depth('/tmp/cloud_debug.ply')\n"
   ]
  },
  {
   "cell_type": "code",
   "execution_count": null,
   "metadata": {},
   "outputs": [],
   "source": []
  },
  {
   "cell_type": "code",
   "execution_count": null,
   "metadata": {},
   "outputs": [],
   "source": []
  }
 ],
 "metadata": {
  "kernelspec": {
   "display_name": "cgm",
   "language": "python",
   "name": "cgm"
  },
  "language_info": {
   "codemirror_mode": {
    "name": "ipython",
    "version": 3
   },
   "file_extension": ".py",
   "mimetype": "text/x-python",
   "name": "python",
   "nbconvert_exporter": "python",
   "pygments_lexer": "ipython3",
   "version": "3.6.9"
  }
 },
 "nbformat": 4,
 "nbformat_minor": 2
}
