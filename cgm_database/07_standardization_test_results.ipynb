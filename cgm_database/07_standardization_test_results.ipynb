{
 "cells": [
  {
   "cell_type": "markdown",
   "metadata": {},
   "source": [
    "# Load the model."
   ]
  },
  {
   "cell_type": "code",
   "execution_count": 1,
   "metadata": {
    "scrolled": true
   },
   "outputs": [
    {
     "name": "stdout",
     "output_type": "stream",
     "text": [
      "Loading model...\n",
      "WARNING:tensorflow:From /home/tbehrens/.local/lib/python3.5/site-packages/tensorflow/python/ops/resource_variable_ops.py:435: colocate_with (from tensorflow.python.framework.ops) is deprecated and will be removed in a future version.\n",
      "Instructions for updating:\n",
      "Colocations handled automatically by placer.\n",
      "WARNING:tensorflow:From /home/tbehrens/.local/lib/python3.5/site-packages/tensorflow/python/keras/layers/core.py:143: calling dropout (from tensorflow.python.ops.nn_ops) with keep_prob is deprecated and will be removed in a future version.\n",
      "Instructions for updating:\n",
      "Please use `rate` instead of `keep_prob`. Rate should be set to `rate = 1 - keep_prob`.\n",
      "WARNING:tensorflow:From /home/tbehrens/.local/lib/python3.5/site-packages/tensorflow/python/keras/utils/losses_utils.py:170: to_float (from tensorflow.python.ops.math_ops) is deprecated and will be removed in a future version.\n",
      "Instructions for updating:\n",
      "Use tf.cast instead.\n",
      "Model loaded.\n"
     ]
    }
   ],
   "source": [
    "import sys\n",
    "sys.path.insert(0, \"..\")\n",
    "from cgmcore import modelutils, utils\n",
    "from ipywidgets import interact, interactive, fixed, interact_manual\n",
    "import ipywidgets as widgets\n",
    "import numpy as np\n",
    "from tqdm import tqdm\n",
    "import pandas as pd\n",
    "import numpy as np\n",
    "%matplotlib inline\n",
    "import matplotlib.pyplot as plt\n",
    "\n",
    "model_path = \"/whhdata/models/20190806-1551_220-55height/20190806-1551_220-55height-pointnet-model-weights.h5\"\n",
    "\n",
    "def load_model(model_path):\n",
    "\n",
    "    input_shape = (10000, 3)\n",
    "    output_size = 1\n",
    "    model = modelutils.create_point_net(input_shape, output_size, hidden_sizes = [512, 256, 128])\n",
    "    model.load_weights(model_path)\n",
    "    model.compile(\n",
    "        optimizer=\"rmsprop\",\n",
    "        loss=\"mse\",\n",
    "        metrics=[\"mae\"]\n",
    "    )\n",
    "    return model \n",
    "\n",
    "print(\"Loading model...\")\n",
    "model = load_model(model_path)\n",
    "print(\"Model loaded.\")"
   ]
  },
  {
   "cell_type": "markdown",
   "metadata": {},
   "source": [
    "# Get the paths of the scans."
   ]
  },
  {
   "cell_type": "code",
   "execution_count": 2,
   "metadata": {
    "scrolled": true
   },
   "outputs": [
    {
     "name": "stdout",
     "output_type": "stream",
     "text": [
      "Scans to be used:\n",
      "/localssd/20190724_Standardization_AAH/RJ_BMZ_TEST_013\n",
      "/localssd/20190724_Standardization_AAH/RJ_BMZ_TEST_014\n"
     ]
    }
   ],
   "source": [
    "import glob2 as glob\n",
    "import os\n",
    "\n",
    "measurements_path = \"/localssd/20190724_Standardization_AAH/\"\n",
    "\n",
    "scan_paths = glob.glob(os.path.join(measurements_path, \"*\"))\n",
    "scan_paths = sorted(scan_paths)\n",
    "\n",
    "print(\"Scans to be used:\")\n",
    "print(\"\\n\".join(scan_paths))"
   ]
  },
  {
   "cell_type": "code",
   "execution_count": 4,
   "metadata": {
    "scrolled": false
   },
   "outputs": [
    {
     "data": {
      "application/vnd.jupyter.widget-view+json": {
       "model_id": "aa65f9464b7f4184affc3fe78fc3ac47",
       "version_major": 2,
       "version_minor": 0
      },
      "text/plain": [
       "interactive(children=(Dropdown(description='scan_path', options=('/localssd/20190724_Standardization_AAH/RJ_BM…"
      ]
     },
     "metadata": {},
     "output_type": "display_data"
    }
   ],
   "source": [
    "pd.set_option(\"max_colwidth\", 1000)\n",
    "pose_types = [\"100\", \"101\", \"102\", \"200\", \"201\", \"202\"]\n",
    "\n",
    "@interact(scan_path=scan_paths)\n",
    "def render(scan_path):\n",
    "    rows = []\n",
    "    \n",
    "    # Get all PCDs.\n",
    "    pcd_paths = glob.glob(os.path.join(scan_path, \"**\", \"*.pcd\"))\n",
    "    if len(pcd_paths) == 0:\n",
    "        print(\"Could not find any PCDs at {}.\".format(scan_path))\n",
    "        return\n",
    "    print(\"Found {} PCDs for {}...\".format(len(pcd_paths), scan_path))\n",
    "    print()\n",
    "    \n",
    "    #pcd_paths_with_type = []\n",
    "    #for pcd_path in pcd_paths:\n",
    "    #    pose_type = pcd_path.split(\"/\")[-1].split(\"_\")[-2]\n",
    "    #    pcd_paths_with_type.append((pcd_path, pose_type))\n",
    "    #del pcd_paths\n",
    "    \n",
    "    # Load the artifact and evaluate.\n",
    "    print(\"Loading PCDs. This might take a while...\")\n",
    "    pcd_arrays = []\n",
    "    for pcd_path in tqdm(pcd_paths):\n",
    "        pcd_array = utils.load_pcd_as_ndarray(pcd_path)\n",
    "        pcd_array = utils.subsample_pointcloud(pcd_array, 10000)\n",
    "        pcd_arrays.append(pcd_array)\n",
    "    pcd_arrays = np.array(pcd_arrays)\n",
    "    \n",
    "    # Predict on all.\n",
    "    print(\"Predicting...\")\n",
    "    predictions = model.predict(pcd_arrays, verbose=1)\n",
    "    \n",
    "    # Just check.\n",
    "    assert len(pcd_paths) == len(predictions)\n",
    "    \n",
    "    # Prepare data.frame.\n",
    "    for pcd_path, prediction in zip(pcd_paths, predictions):\n",
    "        rows.append((pcd_path, prediction[0]))\n",
    "\n",
    "    # Create a data-frame.\n",
    "    print(\"Creating data-frame...\")\n",
    "    df = pd.DataFrame.from_records(rows, columns=[\"path\", \"predicted height\"])\n",
    "    #df.to_csv(\"results.csv\")\n",
    "    display(df)\n",
    "    \n",
    "    # Render the barchart.\n",
    "    print(\"Rendering plot...\")\n",
    "    x_values = []\n",
    "    colors = []\n",
    "    for index, pcd_path in enumerate(pcd_paths):\n",
    "        if \"_100_\" in pcd_path:\n",
    "            x_values.append(\"{}-100\".format(index + 1))\n",
    "            colors.append(\"C0\")\n",
    "        elif \"_101_\" in pcd_path:\n",
    "            x_values.append(\"{}-101\".format(index + 1))\n",
    "            colors.append(\"C1\")\n",
    "        elif \"_102_\" in pcd_path:\n",
    "            x_values.append(\"{}-102\".format(index + 1))\n",
    "            colors.append(\"C3\")\n",
    "        elif \"_200_\" in pcd_path:\n",
    "            x_values.append(\"{}-200\".format(index + 1))\n",
    "            colors.append(\"C4\")\n",
    "        elif \"_201_\" in pcd_path:\n",
    "            x_values.append(\"{}-201\".format(index + 1))\n",
    "            colors.append(\"C5\")\n",
    "        elif \"_202_\" in pcd_path:\n",
    "            x_values.append(\"{}-202\".format(index + 1))\n",
    "            colors.append(\"C6\") \n",
    "        else:\n",
    "            print(pcd_Path)\n",
    "            assert False\n",
    "    bottom_value = 60\n",
    "    x = list(range(len(predictions)))\n",
    "    plt.figure(figsize=(20, 5))\n",
    "    plt.bar(x, [prediction[0] - bottom_value for prediction in predictions], color=colors, bottom=bottom_value)\n",
    "    plt.xticks(x, x_values, rotation='vertical')\n",
    "    plt.title(scan_path.split(\"/\")[-1])\n",
    "    plt.show()\n",
    "    plt.close()\n"
   ]
  },
  {
   "cell_type": "code",
   "execution_count": null,
   "metadata": {},
   "outputs": [],
   "source": []
  }
 ],
 "metadata": {
  "kernelspec": {
   "display_name": "Python 3.5",
   "language": "python",
   "name": "python3"
  },
  "language_info": {
   "codemirror_mode": {
    "name": "ipython",
    "version": 3
   },
   "file_extension": ".py",
   "mimetype": "text/x-python",
   "name": "python",
   "nbconvert_exporter": "python",
   "pygments_lexer": "ipython3",
   "version": "3.5.5"
  }
 },
 "nbformat": 4,
 "nbformat_minor": 2
}
