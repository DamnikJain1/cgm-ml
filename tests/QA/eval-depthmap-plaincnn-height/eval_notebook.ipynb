{
 "metadata": {
  "language_info": {
   "codemirror_mode": {
    "name": "ipython",
    "version": 3
   },
   "file_extension": ".py",
   "mimetype": "text/x-python",
   "name": "python",
   "nbconvert_exporter": "python",
   "pygments_lexer": "ipython3",
   "version": "3.6.9-final"
  },
  "orig_nbformat": 2,
  "kernelspec": {
   "name": "python36964bitazuremlpy366d6fc225ff3443caa96be346196c6812",
   "display_name": "Python 3.6.9 64-bit ('azureml_py36')"
  }
 },
 "nbformat": 4,
 "nbformat_minor": 2,
 "cells": [
  {
   "cell_type": "code",
   "execution_count": null,
   "metadata": {},
   "outputs": [],
   "source": [
    "#from azureml.core import Dataset\n",
    "import os\n",
    "import shutil\n",
    "import tempfile\n",
    "from auth import get_auth\n",
    "from azureml.core import Workspace, Experiment, Run\n",
    "#from azureml.core.dataset import Dataset\n",
    "import glob"
   ]
  },
  {
   "cell_type": "code",
   "execution_count": null,
   "metadata": {},
   "outputs": [],
   "source": [
    "code_dir = \"src\"\n",
    "paths = glob.glob(os.path.join(code_dir, \"*.py\"))\n",
    "paths"
   ]
  },
  {
   "cell_type": "code",
   "execution_count": null,
   "metadata": {},
   "outputs": [],
   "source": [
    "#create a temp folder and copy code, model and dataset"
   ]
  },
  {
   "cell_type": "code",
   "execution_count": null,
   "metadata": {},
   "outputs": [],
   "source": [
    "print(\"Creating temp folder...\")\n",
    "temp_path = \"tmp_eval\"\n",
    "if os.path.exists(temp_path):\n",
    "    shutil.rmtree(temp_path)\n",
    "os.mkdir(temp_path)\n",
    "\n",
    "for p in paths:\n",
    "    shutil.copy(p, temp_path)\n",
    "print(\"Done.\")"
   ]
  },
  {
   "cell_type": "code",
   "execution_count": null,
   "metadata": {},
   "outputs": [],
   "source": [
    "MODEL_EXPERIMENT_NAME = 'q3-depthmap-plaincnn-height-95k'\n",
    "#MODEL_RUN_ID = 'q3-depthmap-plaincnn-height-95k_1597988908_42c4ef33'\n",
    "MODEL_RUN_ID = 'q3-depthmap-plaincnn-height-95k_1600451633_cb44f6db'\n",
    "MODEL_INPUT_LOCATION = 'outputs/best_model.h5'\n",
    "MODEL_OUTPUT_LOCATION = temp_path\n",
    "EVAL_DATASET_NAME = 'anon-depthmap-testset'\n",
    "DATASET_TARGET_PATH = temp_path + 'data'"
   ]
  },
  {
   "cell_type": "code",
   "execution_count": null,
   "metadata": {},
   "outputs": [],
   "source": [
    "def download_model(ws, EXPERIMENT_NAME, RUN_ID, INPUT_LOCATION, OUTPUT_LOCATION):\n",
    "    experiment = Experiment(workspace = ws, name = EXPERIMENT_NAME)\n",
    "    #Download the model on which evaluation need to be done\n",
    "    run = Run(experiment, run_id = RUN_ID)\n",
    "    #run.get_details()\n",
    "    run.download_file(INPUT_LOCATION, OUTPUT_LOCATION)\n",
    "    print(\"Successfully downloaded model\")"
   ]
  },
  {
   "cell_type": "code",
   "execution_count": null,
   "metadata": {},
   "outputs": [],
   "source": [
    "ws = Workspace.from_config(auth = get_auth())"
   ]
  },
  {
   "cell_type": "code",
   "execution_count": null,
   "metadata": {},
   "outputs": [],
   "source": [
    "download_model(ws, MODEL_EXPERIMENT_NAME, MODEL_RUN_ID, MODEL_INPUT_LOCATION, MODEL_OUTPUT_LOCATION)"
   ]
  },
  {
   "cell_type": "code",
   "execution_count": null,
   "metadata": {},
   "outputs": [],
   "source": [
    "EVAL_EXPERIMENT_NAME = \"QA-pipeline\"\n",
    "tags = {}\n",
    "experiment = Experiment(workspace = ws, name = EVAL_EXPERIMENT_NAME)"
   ]
  },
  {
   "cell_type": "code",
   "execution_count": null,
   "metadata": {},
   "outputs": [],
   "source": [
    "#Find/create a compute target."
   ]
  },
  {
   "cell_type": "code",
   "execution_count": null,
   "metadata": {},
   "outputs": [],
   "source": [
    "from azureml.core.compute import ComputeTarget, AmlCompute\n",
    "from azureml.core.compute_target import ComputeTargetException\n",
    "\n",
    "cluster_name = \"gpu-cluster\"\n",
    "\n",
    "# Compute cluster exists. Just connect to it.\n",
    "try:\n",
    "    compute_target = ComputeTarget(workspace = ws, name=cluster_name)\n",
    "    print(\"Found existing compute target.\")\n",
    "\n",
    "# Compute cluster does not exist. Create one.    \n",
    "except ComputeTargetException:\n",
    "    print(\"Creating a new compute target...\")\n",
    "    compute_config = AmlCompute.provisioning_configuration(\n",
    "        vm_size='Standard_NC6', \n",
    "        max_nodes=4\n",
    "    )\n",
    "    compute_target = ComputeTarget.create(workspace, cluster_name, compute_config)\n",
    "    compute_target.wait_for_completion(show_output=True, min_node_count=None, timeout_in_minutes=20)\n",
    "    \n",
    "compute_target"
   ]
  },
  {
   "cell_type": "code",
   "execution_count": null,
   "metadata": {},
   "outputs": [],
   "source": [
    "dataset = ws.datasets[EVAL_DATASET_NAME]\n",
    "dataset"
   ]
  },
  {
   "cell_type": "code",
   "execution_count": null,
   "metadata": {},
   "outputs": [],
   "source": [
    "from azureml.core.runconfig import MpiConfiguration\n",
    "from azureml.train.dnn import TensorFlow\n",
    "TensorFlow.get_supported_versions()"
   ]
  },
  {
   "cell_type": "code",
   "execution_count": null,
   "metadata": {},
   "outputs": [],
   "source": [
    "from src.config import CONFIG\n",
    "\n",
    "script_params = {f\"--{k}\": v for k, v in CONFIG.items()}\n",
    "script_params"
   ]
  },
  {
   "cell_type": "code",
   "execution_count": null,
   "metadata": {},
   "outputs": [],
   "source": [
    "# Specify pip packages here.\n",
    "pip_packages = [\n",
    "    \"azureml-dataprep[fuse,pandas]\",\n",
    "    \"glob2\",\n",
    "    \"opencv-python==4.1.2.30\",\n",
    "    \"matplotlib\",\n",
    "]\n",
    "\n",
    "# Create the estimator.\n",
    "estimator = TensorFlow(\n",
    "    source_directory=temp_path,\n",
    "    compute_target=compute_target,\n",
    "    entry_script=\"evaluate.py\",\n",
    "    use_gpu=True,\n",
    "    framework_version=\"2.2\",\n",
    "    inputs=[dataset.as_named_input(\"dataset\").as_mount()],\n",
    "    pip_packages=pip_packages,\n",
    "    script_params=script_params\n",
    ")\n",
    "\n",
    "# Set compute target.\n",
    "estimator.run_config.target = compute_target\n",
    "\n",
    "# Run the experiment.\n",
    "run = experiment.submit(estimator, tags=tags)\n",
    "\n",
    "# Show run.\n",
    "run"
   ]
  },
  {
   "cell_type": "code",
   "execution_count": null,
   "metadata": {},
   "outputs": [],
   "source": [
    "run.wait_for_completion(show_output=True)"
   ]
  },
  {
   "cell_type": "code",
   "execution_count": null,
   "metadata": {},
   "outputs": [],
   "source": [
    "print(run.get_status())"
   ]
  },
  {
   "cell_type": "code",
   "execution_count": null,
   "metadata": {},
   "outputs": [],
   "source": [
    "CSV_SAVE_LOCATION = '.'\n",
    "run.download_file(CONFIG.CSV_OUT_PATH, CSV_SAVE_LOCATION)\n",
    "print(\"Downloaded the result2.csv\")"
   ]
  },
  {
   "cell_type": "code",
   "execution_count": null,
   "metadata": {},
   "outputs": [],
   "source": [
    "#Delete temp folder\n",
    "shutil.rmtree(temp_path)"
   ]
  },
  {
   "cell_type": "code",
   "execution_count": null,
   "metadata": {},
   "outputs": [],
   "source": []
  }
 ]
}